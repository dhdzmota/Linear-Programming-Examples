{
 "cells": [
  {
   "cell_type": "markdown",
   "metadata": {},
   "source": [
    "# Example 2: Cash Flow Matching Optimization\n",
    "\n",
    "The objective of this problem is to determine the least expensive portfolio of bonds that we can buy now which provide a cashflow in the future to meet the requirements for the proyect.\n",
    "\n",
    "This optimization problem can be solved with linear programming, formally it can be described as\n",
    "\n",
    "$Min_{\\{B_1,B_2,...,B_N\\}}\\sum^{N}_{i=1} p_iB_i$\n",
    "where $B_i$ represents the Bonds, and $p_i$ represents the price.\n",
    "\n",
    "In this case, the price of each bond is a known value, also the liability and the cashflow per bond on each year. \n",
    "\n",
    "The constraints are given by the Surplus cash, which is basically obtained by adding the cash from bonds and the reinvested cash from the previous year (with a rate of 1.01) while substracting the liabilities. The constraint must be that the Surplus cash must remain positive. \n",
    "\n",
    "Some of the data was also  given in a matrix and in vectors:\n"
   ]
  },
  {
   "cell_type": "code",
   "execution_count": 1,
   "metadata": {},
   "outputs": [
    {
     "name": "stdout",
     "output_type": "stream",
     "text": [
      "[[0.05, 0.04, 1, 0], [0.05, 1.04, 0, 1], [1.05, 0, 0, 0]]\n",
      "\n",
      "Prices of each bond [1.04, 1.0, 0.98, 0.92]\n",
      "liability of each period [20000000, 30000000, 40000000]\n"
     ]
    }
   ],
   "source": [
    "#Matrix of the cashflow per bond:\n",
    "#Rows represent the periods, columns represent the number of bond.  \n",
    "cashflow_per_bond = [[0.05,0.04,1,0],\n",
    "                    [.05,1.04,0,1],\n",
    "                    [1.05,0,0,0]]\n",
    "                    \n",
    "#The price of each bond\n",
    "price=[1.04,1.00,0.98,0.92]\n",
    "\n",
    "#Liabilities\n",
    "liability=[20000000, 30000000, 40000000]"
   ]
  },
  {
   "cell_type": "code",
   "execution_count": 9,
   "metadata": {},
   "outputs": [
    {
     "name": "stdout",
     "output_type": "stream",
     "text": [
      "Status: Optimal\n",
      "B1 = 38095238.0\n",
      "B2 = 0.0\n",
      "B3 = 18095238.0\n",
      "B4 = 28095238.0\n",
      "Optimum value: $ 83199999.72\n"
     ]
    }
   ],
   "source": [
    "#Example de Cashflow Matching to a set of liablilities\n",
    "\n",
    "#Import Libraries\n",
    "from pulp import *\n",
    "\n",
    "#Create the problem variable: \n",
    "prob=LpProblem(\"Cashflow problem\", LpMinimize)\n",
    "\n",
    "#Create the variables of the problem:\n",
    "B1=LpVariable(\"B1\",lowBound=0)\n",
    "B2=LpVariable(\"B2\",lowBound=0)\n",
    "B3=LpVariable(\"B3\",lowBound=0)\n",
    "B4=LpVariable(\"B4\",lowBound=0)\n",
    "\n",
    "#Useful constants, variables or lists:\n",
    "reinvestment_rate=1.01\n",
    "liabilities=[20000000,30000000,40000000]\n",
    "SurplusCash1=0.05*B1+.04*B2+1*B3+0*B4+0-liabilities[0]\n",
    "SurplusCash2=0.05*B1+1.04*B2+0*B3+1*B4+SurplusCash1*(reinvestment_rate)-liabilities[1]\n",
    "SurplusCash3=1.05*B1+0*B2+0*B3+0*B4+SurplusCash2*(reinvestment_rate)-liabilities[2]\n",
    "\n",
    "#Add the objective function:\n",
    "prob += 1.04*B1+1.00*B2+0.98*B3+0.92*B4\n",
    "\n",
    "#Add the constraints:\n",
    "prob += SurplusCash1 >= 0\n",
    "prob += SurplusCash2 >= 0\n",
    "prob += SurplusCash3 >= 0\n",
    "\n",
    "#Solve the problem:\n",
    "prob.solve()\n",
    "\n",
    "#Print the resutls:\n",
    "print (\"Status:\", LpStatus[prob.status])\n",
    "for v in prob.variables():\n",
    "    print(v.name, \"=\", v.varValue)\n",
    "print(\"Optimum value: $\", value(prob.objective))\n"
   ]
  },
  {
   "cell_type": "markdown",
   "metadata": {},
   "source": [
    "This example was obtained from: https://www.youtube.com/watch?v=ilhDNR9S2Kc"
   ]
  },
  {
   "cell_type": "code",
   "execution_count": null,
   "metadata": {
    "collapsed": true
   },
   "outputs": [],
   "source": []
  }
 ],
 "metadata": {
  "kernelspec": {
   "display_name": "Python 3",
   "language": "python",
   "name": "python3"
  },
  "language_info": {
   "codemirror_mode": {
    "name": "ipython",
    "version": 3
   },
   "file_extension": ".py",
   "mimetype": "text/x-python",
   "name": "python",
   "nbconvert_exporter": "python",
   "pygments_lexer": "ipython3",
   "version": "3.6.1"
  }
 },
 "nbformat": 4,
 "nbformat_minor": 2
}
