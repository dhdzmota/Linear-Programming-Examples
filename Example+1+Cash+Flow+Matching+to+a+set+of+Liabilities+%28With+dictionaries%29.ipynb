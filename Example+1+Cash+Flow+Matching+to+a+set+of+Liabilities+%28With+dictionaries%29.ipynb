{
 "cells": [
  {
   "cell_type": "markdown",
   "metadata": {},
   "source": [
    "# Example 1: Cash Flow Matching a set of Liabilities using a portfolio or fixed income securities\n",
    "\n",
    "Objective: The objective is to \"cover a set of liabilities with interest payments from a fixed income securities portfolio at the minimal expense required to do so\". \n",
    "\n",
    "Linear Progamming Problem: \n",
    "\n",
    "$Min_{\\{w_1,w_2,...,w_N\\}}\\sum^{N}_{i=1} p_iw_i$\n",
    "\n",
    "Subject to:\n",
    "\n",
    "$\\sum^{N}_{i=1}x_{i,t}w_i \\geq y_t$ for all $t=1,2,...T$\n",
    "\n",
    "\n",
    "\n",
    "$ w_i \\geq 0$ for all assets $i= 1,2...,I$\n",
    "\n",
    "The data given by the problem was obtained in matrices and vectors:\n",
    "\n"
   ]
  },
  {
   "cell_type": "code",
   "execution_count": 20,
   "metadata": {
    "collapsed": true
   },
   "outputs": [],
   "source": [
    "#Matrix of the cashflow per bond:\n",
    "#Rows represent the periods, columns represent the number of bond.  \n",
    "cashflow_per_bond = [[5,2,3,7,9,0,100],\n",
    "                     [5,2,3,7,109,100,0],\n",
    "                     [5,2,103,107,0,0,0],\n",
    "                     [5,102,0,0,0,0,0],\n",
    "                     [105,0,0,0,0,0,0]]\n",
    "\n",
    "#The price of each bond\n",
    "price=[107,100,101,111,104,94,92]\n",
    "\n",
    "#Liabilities\n",
    "liability=[55000, 30500, 47000, 54350, 60000]\n",
    "\n"
   ]
  },
  {
   "cell_type": "code",
   "execution_count": 21,
   "metadata": {},
   "outputs": [
    {
     "name": "stdout",
     "output_type": "stream",
     "text": [
      "Status: Optimal\n",
      "Weight_w1 = 571.42857\n",
      "Weight_w2 = 504.83193\n",
      "Weight_w3 = 0.0\n",
      "Weight_w4 = 403.11396\n",
      "Weight_w5 = 218.45317\n",
      "Weight_w6 = 0.0\n",
      "Weight_w7 = 463.45317\n",
      "Optimum value: $ 224972.69306000002\n"
     ]
    }
   ],
   "source": [
    "#Cashflow Matching to a set of liabilities example\n",
    "#List of weights:\n",
    "weights=[\"w1\",\"w2\",\"w3\",\"w4\",\"w5\",\"w6\",\"w7\"]\n",
    "\n",
    "#List of liabilities:\n",
    "liability=[55000, 30500, 47000, 54350, 60000]\n",
    "\n",
    "#Dictionary of the prices of each bond\n",
    "prices={'w1':107,\n",
    "        'w2':100,\n",
    "        'w3':101,\n",
    "        'w4':111,\n",
    "        'w5':104,\n",
    "        'w6':94,\n",
    "        'w7':99}\n",
    "\n",
    "#Dictionaries of the periods of time\n",
    "period1={'w1':5,\n",
    "         'w2':2,\n",
    "         'w3':3,\n",
    "         'w4':7,\n",
    "         'w5':9,\n",
    "         'w6':0,\n",
    "         'w7':100}\n",
    "\n",
    "period2={'w1':5,\n",
    "         'w2':2,\n",
    "         'w3':3,\n",
    "         'w4':7,\n",
    "         'w5':109,\n",
    "         'w6':100,\n",
    "         'w7':0}\n",
    "\n",
    "period3={'w1':5,\n",
    "         'w2':2,\n",
    "         'w3':103,\n",
    "         'w4':107,\n",
    "         'w5':0,\n",
    "         'w6':0,\n",
    "         'w7':0}\n",
    "\n",
    "\n",
    "period4={'w1':5,\n",
    "         'w2':102,\n",
    "         'w3':0,\n",
    "         'w4':0,\n",
    "         'w5':0,\n",
    "         'w6':0,\n",
    "         'w7':0}\n",
    "\n",
    "\n",
    "period5={'w1':105,\n",
    "        'w2':0,\n",
    "        'w3':0,\n",
    "        'w4':0,\n",
    "        'w5':0,\n",
    "        'w6':0,\n",
    "        'w7':0}\n",
    "\n",
    "#Start with the optimization process\n",
    "from pulp import *\n",
    "\n",
    "prob=LpProblem(\"Cashflow problem\", LpMinimize)\n",
    "#prob=LpProblem(\"Cashflow problem\", LpMaximize)\n",
    "\n",
    "\n",
    "#Create a dictionary of weight variables\n",
    "#(the reference keys to the dictionary are the weigth names):\n",
    "weight_vars=LpVariable.dicts(\"Weight\",weights,0)\n",
    "\n",
    "#Create the objective function:\n",
    "prob+= lpSum([prices[i]*weight_vars[i] for i in weights])\n",
    "\n",
    "#Add the restrictions:\n",
    "prob+= lpSum([period1[i]*weight_vars[i] for i in weights]) >= liability[0]\n",
    "prob+= lpSum([period2[i]*weight_vars[i] for i in weights]) >= liability[1]\n",
    "prob+= lpSum([period3[i]*weight_vars[i] for i in weights]) >= liability[2]\n",
    "prob+= lpSum([period4[i]*weight_vars[i] for i in weights]) >= liability[3]\n",
    "prob+= lpSum([period5[i]*weight_vars[i] for i in weights]) >= liability[4]\n",
    "\n",
    "#Solve function\n",
    "prob.solve()\n",
    "\n",
    "#Show the information\n",
    "print (\"Status:\", LpStatus[prob.status])\n",
    "for v in prob.variables():\n",
    "    print(v.name, \"=\", v.varValue)\n",
    "print(\"Optimum value: $\", value(prob.objective))"
   ]
  },
  {
   "cell_type": "markdown",
   "metadata": {},
   "source": [
    "\n",
    "In a more simplified way, the program can be represented as show below. "
   ]
  },
  {
   "cell_type": "code",
   "execution_count": 22,
   "metadata": {},
   "outputs": [
    {
     "name": "stdout",
     "output_type": "stream",
     "text": [
      "Status: Optimal\n",
      "W1 = 571.42857\n",
      "W2 = 504.83193\n",
      "W3 = 0.0\n",
      "W4 = 403.11396\n",
      "W5 = 218.45317\n",
      "W6 = 0.0\n",
      "W7 = 463.45317\n",
      "Optimum value: $ 224972.69306000002\n"
     ]
    }
   ],
   "source": [
    "#Import libraries\n",
    "from pulp import *\n",
    "\n",
    "#Create a problem variable:\n",
    "prob=LpProblem(\"Cashflow problem\", LpMinimize)\n",
    "\n",
    "#Create the variables of the problem:\n",
    "w1=LpVariable(\"W1\",lowBound=0,)\n",
    "w2=LpVariable(\"W2\",lowBound=0,)\n",
    "w3=LpVariable(\"W3\",lowBound=0,)\n",
    "w4=LpVariable(\"W4\",lowBound=0,)\n",
    "w5=LpVariable(\"W5\",lowBound=0,)\n",
    "w6=LpVariable(\"W6\",lowBound=0,)\n",
    "w7=LpVariable(\"W7\",lowBound=0,)\n",
    "\n",
    "\n",
    "#Add the objective function:\n",
    "prob += 107*w1+100*w2+101*w3+111*w4+104*w5+94*w6+99*w7\n",
    "\n",
    "#Add the constraints:\n",
    "prob += 5*w1+2*w2+3*w3+7*w4+9*w5+0*w6+100*w7 >= 55000\n",
    "prob += 5*w1+2*w2+3*w3+7*w4+109*w5+100*w6+0*w7 >= 30500\n",
    "prob += 5*w1+2*w2+103*w3+107*w4+0*w5+0*w6+0*w7 >= 47000\n",
    "prob += 5*w1+102*w2+0*w3+0*w4+0*w5+0*w6+0*w7 >= 54350\n",
    "prob += 105*w1+0*w2+0*w3+0*w4+0*w5+0*w6+0*w7 >= 60000\n",
    "\n",
    "#Solve the problem:\n",
    "prob.solve()\n",
    "\n",
    "#Print the resutls:\n",
    "print (\"Status:\", LpStatus[prob.status])\n",
    "for v in prob.variables():\n",
    "    print(v.name, \"=\", v.varValue)   \n",
    "print(\"Optimum value: $\", value(prob.objective))\n"
   ]
  },
  {
   "cell_type": "markdown",
   "metadata": {},
   "source": [
    "This example was obtained from: https://youtu.be/elP3BzwigzU"
   ]
  },
  {
   "cell_type": "code",
   "execution_count": null,
   "metadata": {
    "collapsed": true
   },
   "outputs": [],
   "source": []
  }
 ],
 "metadata": {
  "kernelspec": {
   "display_name": "Python 3",
   "language": "python",
   "name": "python3"
  },
  "language_info": {
   "codemirror_mode": {
    "name": "ipython",
    "version": 3
   },
   "file_extension": ".py",
   "mimetype": "text/x-python",
   "name": "python",
   "nbconvert_exporter": "python",
   "pygments_lexer": "ipython3",
   "version": "3.6.1"
  }
 },
 "nbformat": 4,
 "nbformat_minor": 2
}
