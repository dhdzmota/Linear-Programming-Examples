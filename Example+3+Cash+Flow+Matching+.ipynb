{
 "cells": [
  {
   "cell_type": "markdown",
   "metadata": {},
   "source": [
    "# Example 3: Cash Flow Matching\n",
    "The objective of this problem is to determine the maximum the available cash an investor can obtain in four years. They have different options to invest a given quantity ($\\$100,000$). They must expend all the quantity at time 1 and they can´t exceed a specific value for each investing option ($\\$50,000 $maximum).\n",
    "\n",
    "There are 5 investing options, with the corresponding letters A to E, with given information. \n",
    "\n",
    "1. A:(Year of invest=1; Year of return=4, Return=1.40)\n",
    "1. B:(Year of invest=1; Year of return=2, Return=1.15)\n",
    "1. C:(Year of invest=1; Year of return=3, Return=1.28)\n",
    "1. D:(Year of invest=3; Year of return=4, Return=1.15)\n",
    "1. E:(Year of invest=2; Year of return=4, Return=1.32)\n",
    "\n",
    "There can also be an interest on Cd's that return 6% of interest anually. \n",
    "\n",
    "This problem can also be solved with Linear Programming, formally it can be described as\n",
    "\n",
    "$Max_{\\{o_1,o_2,...,o_N\\}}\\sum^{N}_{i=1} o_iR_i$ where $o_i$ represent the options of investment, and $R_i$ represents the returned value.\n",
    "\n"
   ]
  },
  {
   "cell_type": "code",
   "execution_count": 2,
   "metadata": {},
   "outputs": [
    {
     "name": "stdout",
     "output_type": "stream",
     "text": [
      "Status: Optimal\n",
      "A = 17459.239\n",
      "B = 43478.261\n",
      "C = 39062.5\n",
      "Cd1 = 0.0\n",
      "Cd2 = 0.0\n",
      "Cd3 = 0.0\n",
      "D = 50000.0\n",
      "E = 50000.0\n",
      "Optimum value: $ 147942.93459999998\n"
     ]
    }
   ],
   "source": [
    "#Example Cashflow Matching to a set of liablilities\n",
    "\n",
    "\n",
    "#Import libraries\n",
    "from pulp import *\n",
    "\n",
    "#Create the problem variable:\n",
    "prob=LpProblem(\"Cash flow problem\", LpMaximize)\n",
    "\n",
    "#Create the variables of the problem:\n",
    "A=LpVariable(\"A\",lowBound=0,upBound=50000)\n",
    "B=LpVariable(\"B\",lowBound=0,upBound=50000)\n",
    "C=LpVariable(\"C\",lowBound=0,upBound=50000)\n",
    "D=LpVariable(\"D\",lowBound=0,upBound=50000)\n",
    "E=LpVariable(\"E\",lowBound=0,upBound=50000)\n",
    "Cd1=LpVariable(\"Cd1\",lowBound=0,upBound=50000)\n",
    "Cd2=LpVariable(\"Cd2\",lowBound=0,upBound=50000)\n",
    "Cd3=LpVariable(\"Cd3\",lowBound=0,upBound=50000)\n",
    "\n",
    "#Useful constants, variables or lists:\n",
    "Cash_period1=(-1)*A+(-1)*B+(-1)*C+(0)*D+(0)*E+(-1)*Cd1+(0)*Cd2+(0)*Cd3\n",
    "Cash_period2=(0)*A+(1.15)*B+(0)*C+(0)*D+(-1)*E+(1.06)*Cd1+(-1)*Cd2+(0)*Cd3\n",
    "Cash_period3=(0)*A+(0)*B+(1.28)*C+(-1)*D+(0)*E+(0)*Cd1+(1.06)*Cd2+(-1)*Cd3\n",
    "Cash_period4=(1.4)*A+(0)*B+(0)*C+(1.15)*D+(1.32)*E+(0)*Cd1+(0)*Cd2+(1.06)*Cd3\n",
    "\n",
    "#Add the objective function:\n",
    "prob += Cash_period4\n",
    "\n",
    "#Add the constraints:\n",
    "prob += Cash_period1 == -100000\n",
    "prob += Cash_period2 == 0\n",
    "prob += Cash_period3 == 0\n",
    "\n",
    "#Solve the problem:\n",
    "prob.solve()\n",
    "\n",
    "#Print the resutls:\n",
    "print (\"Status:\", LpStatus[prob.status])\n",
    "for v in prob.variables():\n",
    "    print(v.name, \"=\", v.varValue)\n",
    "print(\"Optimum value: $\", value(prob.objective))\n"
   ]
  },
  {
   "cell_type": "markdown",
   "metadata": {},
   "source": [
    "This example was obtained from: https://www.youtube.com/watch?v=l60sM2CbJM0"
   ]
  },
  {
   "cell_type": "code",
   "execution_count": null,
   "metadata": {
    "collapsed": true
   },
   "outputs": [],
   "source": []
  }
 ],
 "metadata": {
  "kernelspec": {
   "display_name": "Python 3",
   "language": "python",
   "name": "python3"
  },
  "language_info": {
   "codemirror_mode": {
    "name": "ipython",
    "version": 3
   },
   "file_extension": ".py",
   "mimetype": "text/x-python",
   "name": "python",
   "nbconvert_exporter": "python",
   "pygments_lexer": "ipython3",
   "version": "3.6.1"
  }
 },
 "nbformat": 4,
 "nbformat_minor": 2
}
