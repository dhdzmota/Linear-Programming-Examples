{
 "cells": [
  {
   "cell_type": "markdown",
   "metadata": {
    "collapsed": true
   },
   "source": [
    "# Example 5: Investment Problem\n",
    "The objective of this problem is to determine the optimal investment amounts. The initial quantity to invest is $\\$12000$. There are three different funds to choose: the first has $7\\%$ of return, the second has $8\\%$ and the third is high-risk acount has an expected $12\\%$. To minimize the risk the maximum quantity expended on that option is $/$2000$ in the high-risk acount. Also, the investment on the second option must be 3 times the one on the first one.\n",
    "\n",
    "This problem can also be solved with Linear Programming, formally it can be described as\n",
    "\n",
    "$Max_{\\{o_1,o_2,o_3\\}}\\sum^{3}_{i=1} o_iR_i$ where $o_i$ represent the options of investment, and $R_i$ represents the returned percentage."
   ]
  },
  {
   "cell_type": "code",
   "execution_count": 4,
   "metadata": {},
   "outputs": [
    {
     "name": "stdout",
     "output_type": "stream",
     "text": [
      "Status: Optimal\n",
      "01 = 7500.0\n",
      "02 = 2500.0\n",
      "03 = 2000.0\n",
      "Optimum value: $ 965.0\n"
     ]
    }
   ],
   "source": [
    "#Example Investment Problem\n",
    "\n",
    "\n",
    "#Import libraries\n",
    "from pulp import *\n",
    "\n",
    "#Create the problem variable:\n",
    "prob=LpProblem(\"Cash flow problem\", LpMaximize)\n",
    "\n",
    "#Create the variables of the problem:\n",
    "O1=LpVariable(\"01\",lowBound=0)\n",
    "O2=LpVariable(\"02\",lowBound=0)\n",
    "O3=LpVariable(\"03\",lowBound=0)\n",
    "\n",
    "#Useful constants, variables or lists:\n",
    "ret=[.07,.08,.12]#Values corresponding to each return\n",
    "objective_function=O1*ret[0]+O2*ret[1]+O3*ret[2]\n",
    "total_available=O1+O2+O3\n",
    "\n",
    "#Add the objective function:\n",
    "prob += objective_function\n",
    "\n",
    "\n",
    "#Add the constraints:\n",
    "prob += total_available <=12000\n",
    "prob += O3 <= 2000\n",
    "prob += O1-3*O2 >= 0\n",
    "\n",
    "#Solve the problem:\n",
    "prob.solve()\n",
    "\n",
    "#Print the resutls:\n",
    "print (\"Status:\", LpStatus[prob.status])\n",
    "for v in prob.variables():\n",
    "    print(v.name, \"=\", v.varValue)\n",
    "print(\"Optimum value: $\", value(prob.objective))\n"
   ]
  },
  {
   "cell_type": "markdown",
   "metadata": {},
   "source": [
    "This example was obtained from: https://www.youtube.com/watch?v=HXTedBQedog"
   ]
  }
 ],
 "metadata": {
  "kernelspec": {
   "display_name": "Python 3",
   "language": "python",
   "name": "python3"
  },
  "language_info": {
   "codemirror_mode": {
    "name": "ipython",
    "version": 3
   },
   "file_extension": ".py",
   "mimetype": "text/x-python",
   "name": "python",
   "nbconvert_exporter": "python",
   "pygments_lexer": "ipython3",
   "version": "3.6.1"
  }
 },
 "nbformat": 4,
 "nbformat_minor": 2
}
