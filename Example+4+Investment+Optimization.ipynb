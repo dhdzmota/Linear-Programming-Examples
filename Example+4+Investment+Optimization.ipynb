{
 "cells": [
  {
   "cell_type": "markdown",
   "metadata": {
    "collapsed": true
   },
   "source": [
    "# Example 4: Investing optimization\n",
    "\n",
    "The objective of this problem is to determine the best investing strategy. Given different bond choices, the maximum amount that can be expended on each bond, the return percentage and the years to maturity. Also there is a fixed amount of money available ($\\$750,000$). At least half of the money must be spent in bonds with 10 years to maturity or more. For each bond, there is a limit of expending maximum $25\\%$ on each\n",
    "Finally, there is another constraint that doesn't allow the user to use more than $35\\%$ in bonds with high risk.\n",
    "\n",
    "\n",
    "There are 6 investing options, with the corresponding letters $A_i$\n",
    "\n",
    "1. $A_1$:(Return=$8.65\\%$; Years to maturity=11, Risk=Low)\n",
    "1. $A_2$:(Return=$9.50\\%$; Years to maturity=10, Risk=High)\n",
    "1. $A_3$:(Return=$10.00\\%$; Years to maturity=6, Risk=High)\n",
    "1. $A_4$:(Return=$8.75\\%$; Years to maturity=10, Risk=Low)\n",
    "1. $A_5$:(Return=$9.25\\%$; Years to maturity=7, Risk=High)\n",
    "1. $A_6$:(Return=$9.00\\%$; Years to maturity=13, Risk=Low)\n",
    "\n",
    "This problem can also be solved with Linear Programming, formally it can be described as\n",
    "\n",
    "$Max_{\\{A_1,A_2,...,A_N\\}}\\sum^{N}_{i=1} A_iR_i$ where $A_i$ represent the options of investment, and $R_i$ represents the returned value.\n",
    "\n"
   ]
  },
  {
   "cell_type": "code",
   "execution_count": 5,
   "metadata": {},
   "outputs": [
    {
     "name": "stdout",
     "output_type": "stream",
     "text": [
      "Status: Optimal\n",
      "A1 = 112500.0\n",
      "A2 = 75000.0\n",
      "A3 = 187500.0\n",
      "A4 = 187500.0\n",
      "A5 = 0.0\n",
      "A6 = 187500.0\n",
      "Optimum value: $ 6888750.0\n"
     ]
    }
   ],
   "source": [
    "#Example of an Investment Optimization\n",
    "\n",
    "#Import libraries\n",
    "from pulp import *\n",
    "\n",
    "#Create the problem variable:\n",
    "prob=LpProblem(\"Cash flow problem\", LpMaximize)\n",
    "\n",
    "#Initial constants:\n",
    "moneyavailable=750000\n",
    "\n",
    "#Create the variables of the problem:\n",
    "A1=LpVariable(\"A1\",lowBound=0,upBound=.25*moneyavailable)\n",
    "A2=LpVariable(\"A2\",lowBound=0,upBound=.25*moneyavailable)\n",
    "A3=LpVariable(\"A3\",lowBound=0,upBound=.25*moneyavailable)\n",
    "A4=LpVariable(\"A4\",lowBound=0,upBound=.25*moneyavailable)\n",
    "A5=LpVariable(\"A5\",lowBound=0,upBound=.25*moneyavailable)\n",
    "A6=LpVariable(\"A6\",lowBound=0,upBound=.25*moneyavailable)\n",
    "\n",
    "#Useful constants, variables or lists:\n",
    "Amount_invested=A1+A2+A3+A4+A5+A6\n",
    "Amount_invesed_Maturity=A1*(1)+A2*(1)+A3*(0)+A4*(1)+A5*(0)+A6*(1)\n",
    "Amount_invested_Risk=A1*(0)+A2*(1)+A3*(1)+A4*(0)+A5*(1)+A6*(0)\n",
    "invested_income=A1*(8.65)+A2*(9.50)+A3*(10.00)+A4*(8.75)+A5*(9.25)+A6*(9.00)\n",
    "\n",
    "#Add the objective function:\n",
    "prob += invested_income\n",
    "\n",
    "#Add the constraints:\n",
    "prob += Amount_invested == moneyavailable\n",
    "prob += Amount_invesed_Maturity >= moneyavailable*(.5)\n",
    "prob += Amount_invested_Risk <= moneyavailable*(.35)\n",
    "\n",
    "#Solve the problem:\n",
    "prob.solve()\n",
    "\n",
    "#Print the resutls:\n",
    "print (\"Status:\", LpStatus[prob.status])\n",
    "for v in prob.variables():\n",
    "    print(v.name, \"=\", v.varValue)\n",
    "print(\"Optimum value: $\", value(prob.objective))"
   ]
  },
  {
   "cell_type": "markdown",
   "metadata": {},
   "source": [
    "This example was obtained from: https://www.youtube.com/watch?v=gukxBus8lOs"
   ]
  },
  {
   "cell_type": "code",
   "execution_count": null,
   "metadata": {
    "collapsed": true
   },
   "outputs": [],
   "source": []
  }
 ],
 "metadata": {
  "kernelspec": {
   "display_name": "Python 3",
   "language": "python",
   "name": "python3"
  },
  "language_info": {
   "codemirror_mode": {
    "name": "ipython",
    "version": 3
   },
   "file_extension": ".py",
   "mimetype": "text/x-python",
   "name": "python",
   "nbconvert_exporter": "python",
   "pygments_lexer": "ipython3",
   "version": "3.6.1"
  }
 },
 "nbformat": 4,
 "nbformat_minor": 2
}
